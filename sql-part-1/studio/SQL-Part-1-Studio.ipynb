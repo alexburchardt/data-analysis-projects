{
 "cells": [
  {
   "cell_type": "markdown",
   "metadata": {},
   "source": [
    "# SQL Part 1 Studio\n",
    "\n",
    "Let's practice your SQL querying skills!  For each question, work along in the notebook adding your query and answering the questions.\n",
    "\n",
    "## Dataset\n",
    "\n",
    "We will be using the same Goodreads dataset that was used for the exercises in the prep work. Feel free to reference your exercises notebook as you work on the studio. The Kaggle dataset can be found here: [goodbooks-10k](https://www.kaggle.com/zygmunt/goodbooks-10k).\n",
    "\n",
    "You can access **BooksDB** in the Launchcode server.\n",
    "\n",
    "## Business Issue\n",
    "\n",
    "You work for a small independent book store and you want to increase sales by running a new marketing campaign. Before you can design your campaign, you need to get more familiar with what is going on with the world of book publishing. Time to get more familar with BooksDB!"
   ]
  },
  {
   "cell_type": "markdown",
   "metadata": {},
   "source": [
    "## Part 1: BooksDB Questions\n",
    "\n",
    "Question 1: Write a query of the `books` table that returns the top 100 results and includes `book_id`, `authors`, `title`, and `average_rating`. Use an alias for at least one column and sort the result set in descending order of rating. What is the number one book?"
   ]
  },
  {
   "cell_type": "code",
   "execution_count": null,
   "metadata": {
    "vscode": {
     "languageId": "sql"
    }
   },
   "outputs": [],
   "source": [
    "USE BooksDB\n",
    "SELECT TOP 100 book_id, authors, title AS 'book_title', average_rating\n",
    "FROM dbo.books\n",
    "ORDER BY average_rating DESC\n",
    "--The number one book is The Complete Calvin and Hobbes by Bill Watterson."
   ]
  },
  {
   "cell_type": "markdown",
   "metadata": {},
   "source": [
    "Question 2: Write a query to find the least popular book."
   ]
  },
  {
   "cell_type": "code",
   "execution_count": null,
   "metadata": {
    "vscode": {
     "languageId": "sql"
    }
   },
   "outputs": [],
   "source": [
    "USE BooksDB\n",
    "SELECT book_id, title, MIN (\"average_rating\") AS min_rating\n",
    "FROM dbo.books\n",
    "GROUP BY book_id, title\n",
    "ORDER BY min_rating\n",
    "--The least popular book is One Night At the Call Center."
   ]
  },
  {
   "cell_type": "markdown",
   "metadata": {},
   "source": [
    "Question 3: Which tag is the most popular?"
   ]
  },
  {
   "cell_type": "code",
   "execution_count": null,
   "metadata": {
    "vscode": {
     "languageId": "sql"
    }
   },
   "outputs": [],
   "source": [
    "SELECT TOP 1 tag_id, 'count'\n",
    "FROM BooksDB.dbo.book_tags\n",
    "ORDER BY \"count\" DESC\n",
    "--30574 is most popular tag id."
   ]
  },
  {
   "cell_type": "markdown",
   "metadata": {},
   "source": [
    "Question 4: What is the name of the most popular tag?"
   ]
  },
  {
   "cell_type": "code",
   "execution_count": null,
   "metadata": {
    "vscode": {
     "languageId": "sql"
    }
   },
   "outputs": [],
   "source": [
    "SELECT *\n",
    "FROM dbo.tags\n",
    "WHERE tag_id LIKE 30574\n",
    "--Returns \"to-read\" as the most popular tag using information from question 3."
   ]
  },
  {
   "cell_type": "markdown",
   "metadata": {},
   "source": [
    "Question 5: How many books where released in the first decade of 2000?"
   ]
  },
  {
   "cell_type": "code",
   "execution_count": null,
   "metadata": {
    "vscode": {
     "languageId": "sql"
    }
   },
   "outputs": [],
   "source": [
    "SELECT COUNT (title)\n",
    "FROM dbo.books\n",
    "WHERE original_publication_year BETWEEN 2000 AND 2010;\n",
    "--Returns 3594 books."
   ]
  },
  {
   "cell_type": "markdown",
   "metadata": {},
   "source": [
    "Question 6: How many book titles contain the word, \"happy\"?"
   ]
  },
  {
   "cell_type": "code",
   "execution_count": null,
   "metadata": {
    "vscode": {
     "languageId": "sql"
    }
   },
   "outputs": [],
   "source": [
    "SELECT COUNT (title)\n",
    "FROM dbo.books\n",
    "WHERE title LIKE '%happy%'\n",
    "--13 titles."
   ]
  },
  {
   "cell_type": "markdown",
   "metadata": {},
   "source": [
    "Question 7: List the books from the top 3 authors from Question 1.  If there is more than one author just use the first one. Sort the title alphabetically by `author` and then by `average_rating`, best rated to lowest. Does this order matter in sorting?"
   ]
  },
  {
   "cell_type": "code",
   "execution_count": null,
   "metadata": {
    "vscode": {
     "languageId": "sql"
    }
   },
   "outputs": [],
   "source": [
    "SELECT authors, title, average_rating\n",
    "FROM BooksDB.dbo.books\n",
    "WHERE authors LIKE 'j.k. rowling' OR authors LIKE 'bill watterson' OR authors LIKE 'brandon sanderson'\n",
    "ORDER BY authors ASC, average_rating DESC\n",
    "--Yes, the order does matter."
   ]
  },
  {
   "cell_type": "markdown",
   "metadata": {},
   "source": [
    "Question 8: Write a query that returns the number of authors whose first name is between rock and roll."
   ]
  },
  {
   "cell_type": "code",
   "execution_count": null,
   "metadata": {
    "vscode": {
     "languageId": "sql"
    }
   },
   "outputs": [],
   "source": [
    "SELECT COUNT (authors)\n",
    "FROM BooksDB.dbo.books\n",
    "WHERE authors BETWEEN 'rock%' AND 'roll%';\n",
    "--25 authors returned"
   ]
  },
  {
   "cell_type": "markdown",
   "metadata": {},
   "source": [
    "## Part 2: Find the Answers to Your Own Questions\n",
    "\n",
    "Your Question:  Click here to add a questions that you want to answer and write a query to find the answer!"
   ]
  },
  {
   "cell_type": "code",
   "execution_count": null,
   "metadata": {
    "vscode": {
     "languageId": "sql"
    }
   },
   "outputs": [],
   "source": []
  },
  {
   "cell_type": "code",
   "execution_count": null,
   "metadata": {
    "vscode": {
     "languageId": "sql"
    }
   },
   "outputs": [],
   "source": [
    "--What book has the longest title?\n",
    "SELECT TOP 1 (title), LEN (title)\n",
    "FROM BooksDB.dbo.books\n",
    "ORDER BY LEN (title) DESC\n",
    "--Soccernomics: Why England Loses, Why Germany and Brazil Win, and Why the U.S., Japan, Australia, Turkey--and Even Iraq--Are Destined to Become the Kings of the World's Most Popular Sport"
   ]
  },
  {
   "cell_type": "markdown",
   "metadata": {},
   "source": [
    "Your Question:  Click here to add a questions that you want to answer and write a query to find the answer!"
   ]
  },
  {
   "cell_type": "code",
   "execution_count": null,
   "metadata": {
    "vscode": {
     "languageId": "sql"
    }
   },
   "outputs": [],
   "source": [
    "--What were the top 10 books published in 1989?\n",
    "SELECT TOP 10 (average_rating), title, original_publication_year\n",
    "FROM BooksDB.dbo.books\n",
    "WHERE original_publication_year LIKE '1989'\n",
    "ORDER BY (average_rating) DESC\n"
   ]
  },
  {
   "cell_type": "markdown",
   "metadata": {},
   "source": [
    "If you cannot think of a question you want to ask, here are some question examples to help jumpstart your brainstorming process:\n",
    "\n",
    "1. What book has the longest title?\n",
    "1. Which author has written the most books?\n",
    "1. What were the top ten books published the year I was born?"
   ]
  }
 ],
 "metadata": {
  "language_info": {
   "name": "python"
  }
 },
 "nbformat": 4,
 "nbformat_minor": 2
}
